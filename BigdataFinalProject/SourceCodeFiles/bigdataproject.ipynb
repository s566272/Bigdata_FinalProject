{
 "cells": [
  {
   "cell_type": "code",
   "execution_count": 1,
   "id": "c6d73a9d-fbf6-4ee1-ab12-cac75b47081a",
   "metadata": {},
   "outputs": [],
   "source": [
    "from pyspark.sql import SparkSession\n",
    "from pyspark.sql.functions import col, avg, count, corr, when\n"
   ]
  },
  {
   "cell_type": "code",
   "execution_count": 2,
   "id": "ea1212c5-9b72-4c42-8eb2-d71d55e4315a",
   "metadata": {},
   "outputs": [],
   "source": [
    "spark = SparkSession.builder.appName(\"Smartphone Usage Analysis\").getOrCreate()"
   ]
  },
  {
   "cell_type": "code",
   "execution_count": 3,
   "id": "bb6e8fea-1957-47ba-9b9d-8faf1018feb1",
   "metadata": {},
   "outputs": [],
   "source": [
    "file_path = \"Bigdata_Project.csv\"  \n",
    "data = spark.read.csv(file_path, header=True, inferSchema=True)"
   ]
  },
  {
   "cell_type": "code",
   "execution_count": 6,
   "id": "edf330d3-f1f3-4aff-b8c7-33855f38976d",
   "metadata": {},
   "outputs": [
    {
     "name": "stdout",
     "output_type": "stream",
     "text": [
      "root\n",
      " |-- Battery Efficiency(mAh/hr): integer (nullable = true)\n",
      " |-- User ID: integer (nullable = true)\n",
      " |-- Device Model: string (nullable = true)\n",
      " |-- Operating System: string (nullable = true)\n",
      " |-- App Usage Time (min/day): integer (nullable = true)\n",
      " |-- Screen On Time (hours/day): double (nullable = true)\n",
      " |-- Battery Drain (mAh/day): integer (nullable = true)\n",
      " |-- Number of Apps Installed: integer (nullable = true)\n",
      " |-- Data Usage (MB/day): integer (nullable = true)\n",
      " |-- Age: integer (nullable = true)\n",
      " |-- Gender: string (nullable = true)\n",
      " |-- User Behavior Class: integer (nullable = true)\n",
      "\n",
      "+--------------------------+-------+--------------+----------------+------------------------+--------------------------+-----------------------+------------------------+-------------------+---+------+-------------------+\n",
      "|Battery Efficiency(mAh/hr)|User ID|  Device Model|Operating System|App Usage Time (min/day)|Screen On Time (hours/day)|Battery Drain (mAh/day)|Number of Apps Installed|Data Usage (MB/day)|Age|Gender|User Behavior Class|\n",
      "+--------------------------+-------+--------------+----------------+------------------------+--------------------------+-----------------------+------------------------+-------------------+---+------+-------------------+\n",
      "|                       292|      1|Google Pixel 5|         Android|                     393|                       6.4|                   1872|                      67|               1122| 40|  Male|                  4|\n",
      "|                       283|      2|     OnePlus 9|         Android|                     268|                       4.7|                   1331|                      42|                944| 47|female|                  3|\n",
      "|                       190|      3|  Xiaomi Mi 11|         Android|                     154|                       4.0|                    761|                      32|                322| 42|  Male|                  2|\n",
      "|                       349|      4|Google Pixel 5|         Android|                     239|                       4.8|                   1676|                      56|                871| 20|  Male|                  3|\n",
      "|                       317|      5|     iPhone 12|             iOS|                     187|                       4.3|                   1367|                      58|                988| 31|female|                  3|\n",
      "+--------------------------+-------+--------------+----------------+------------------------+--------------------------+-----------------------+------------------------+-------------------+---+------+-------------------+\n",
      "only showing top 5 rows\n",
      "\n"
     ]
    }
   ],
   "source": [
    "data.printSchema()\n",
    "data.show(5)"
   ]
  },
  {
   "cell_type": "code",
   "execution_count": 22,
   "id": "c065a57d-0ea2-4e91-aaf4-c3fb4d489ef8",
   "metadata": {
    "scrolled": true
   },
   "outputs": [
    {
     "name": "stdout",
     "output_type": "stream",
     "text": [
      "+---+------+------------------+----------+\n",
      "|Age|Gender|    avg_usage_time|user_count|\n",
      "+---+------+------------------+----------+\n",
      "| 38|female|             360.5|         6|\n",
      "| 56|female|214.83333333333334|         6|\n",
      "| 48|  Male|             335.8|         5|\n",
      "| 26|  Male|249.66666666666666|         6|\n",
      "| 53|  Male| 207.1818181818182|        11|\n",
      "| 47|  Male|368.77777777777777|         9|\n",
      "| 32|  Male|249.55555555555554|         9|\n",
      "| 18|  male|             152.0|         1|\n",
      "| 32|female|223.33333333333334|         9|\n",
      "| 36|female|             205.6|        10|\n",
      "| 25|  Male|             173.0|        10|\n",
      "| 24|  Male|             314.7|        10|\n",
      "| 39|female| 312.6666666666667|         6|\n",
      "| 24|female|            189.25|         4|\n",
      "| 37|  Male|270.85714285714283|         7|\n",
      "| 45|  Male|206.77777777777777|         9|\n",
      "| 33|  Male|             248.6|         5|\n",
      "| 49|  Male|             382.6|         5|\n",
      "| 55|female|             351.8|        10|\n",
      "| 40|  Male|             313.6|        10|\n",
      "+---+------+------------------+----------+\n",
      "only showing top 20 rows\n",
      "\n"
     ]
    }
   ],
   "source": [
    "goal1 = data.groupBy(\"Age\", \"Gender\").agg(\n",
    "    avg(col(\"App Usage Time (min/day)\")).alias(\"avg_usage_time\"),\n",
    "    count(\"User ID\").alias(\"user_count\")\n",
    ")\n",
    "goal1.show()"
   ]
  },
  {
   "cell_type": "code",
   "execution_count": 10,
   "id": "944e6ac3-e5d7-420f-a018-150fd7d5a63d",
   "metadata": {},
   "outputs": [
    {
     "name": "stdout",
     "output_type": "stream",
     "text": [
      "+------------------+----------------+----------------------+------------------+\n",
      "|      device_model|operating_system|avg_battery_efficiency|avg_screen_on_time|\n",
      "+------------------+----------------+----------------------+------------------+\n",
      "|Samsung Galaxy S21|         Android|     290.8045112781955| 5.318045112781958|\n",
      "|         OnePlus 9|         Android|    301.29323308270676| 5.241353383458647|\n",
      "|         iPhone 12|             iOS|    303.06164383561645|5.4308219178082195|\n",
      "|    Google Pixel 5|         Android|    306.90845070422534|  5.07605633802817|\n",
      "|      Xiaomi Mi 11|         Android|    305.06849315068496| 5.293150684931508|\n",
      "+------------------+----------------+----------------------+------------------+\n",
      "\n"
     ]
    }
   ],
   "source": [
    "goal2 = data.select(\n",
    "    col(\"Battery Efficiency(mAh/hr)\").alias(\"battery_efficiency\"),\n",
    "    col(\"Device Model\").alias(\"device_model\"),\n",
    "    col(\"Operating System\").alias(\"operating_system\"),\n",
    "    col(\"Screen On Time (hours/day)\").alias(\"screen_on_time\")\n",
    ").groupBy(\"device_model\", \"operating_system\").agg(\n",
    "    avg(\"battery_efficiency\").alias(\"avg_battery_efficiency\"),\n",
    "    avg(\"screen_on_time\").alias(\"avg_screen_on_time\")\n",
    ")\n",
    "\n",
    "goal2.show()"
   ]
  },
  {
   "cell_type": "code",
   "execution_count": 12,
   "id": "1bbc9fd6-f43c-4308-9bbd-fd3b168f7470",
   "metadata": {},
   "outputs": [
    {
     "name": "stdout",
     "output_type": "stream",
     "text": [
      "+------------------------+---+------+--------------+\n",
      "|number_of_apps_installed|age|gender|avg_data_usage|\n",
      "+------------------------+---+------+--------------+\n",
      "|                      33| 58|  Male|         369.0|\n",
      "|                      54| 55|  Male|         987.0|\n",
      "|                      91| 21|  Male|        2387.0|\n",
      "|                      15| 39|female|         275.0|\n",
      "|                      64| 56|  Male|        1053.0|\n",
      "|                      79| 50|  Male|        1164.0|\n",
      "|                      35| 34|  Male|         503.0|\n",
      "|                      66| 53|  Male|        1459.0|\n",
      "|                      74| 40|  Male|        1400.0|\n",
      "|                      61| 19|female|        1246.0|\n",
      "|                      12| 42|  Male|         164.0|\n",
      "|                      71| 47|  Male|        1096.0|\n",
      "|                      66| 23|female|        1200.0|\n",
      "|                      55| 36|female|         965.0|\n",
      "|                      90| 29|female|        2069.0|\n",
      "|                      12| 56|  Male|         198.0|\n",
      "|                      30| 56|  Male|         466.0|\n",
      "|                      26| 35|female|         498.0|\n",
      "|                      98| 49|female|        2018.5|\n",
      "|                      18| 43|female|         221.0|\n",
      "+------------------------+---+------+--------------+\n",
      "only showing top 20 rows\n",
      "\n"
     ]
    }
   ],
   "source": [
    "goal3 = data.groupBy(\n",
    "    col(\"Number of Apps Installed\").alias(\"number_of_apps_installed\"),\n",
    "    col(\"Age\").alias(\"age\"),\n",
    "    col(\"Gender\").alias(\"gender\")\n",
    ").agg(\n",
    "    avg(col(\"Data Usage (MB/day)\")).alias(\"avg_data_usage\")\n",
    ")\n",
    "\n",
    "goal3.show()"
   ]
  },
  {
   "cell_type": "code",
   "execution_count": 14,
   "id": "e02870c5-0ccb-4d33-9132-581aa86f6c52",
   "metadata": {},
   "outputs": [
    {
     "name": "stdout",
     "output_type": "stream",
     "text": [
      "+----------------+---+------+--------------+\n",
      "|operating_system|age|gender|os_preferences|\n",
      "+----------------+---+------+--------------+\n",
      "|         Android| 49|female|            11|\n",
      "|         Android| 42|  Male|            11|\n",
      "|         Android| 25|  Male|             9|\n",
      "|         Android| 43|female|             9|\n",
      "|         Android| 38|  Male|             2|\n",
      "|             iOS| 31|female|             1|\n",
      "|             iOS| 21|  Male|             2|\n",
      "|         Android| 35|female|             6|\n",
      "|             iOS| 34|female|             4|\n",
      "|             iOS| 43|female|             1|\n",
      "|             iOS| 58|female|             2|\n",
      "|         Android| 45|female|             8|\n",
      "|             iOS| 46|  Male|             2|\n",
      "|         Android| 54|  Male|             7|\n",
      "|             iOS| 26|female|             1|\n",
      "|         Android| 56|female|             4|\n",
      "|             iOS| 22|female|             4|\n",
      "|         Android| 37|female|             9|\n",
      "|             iOS| 29|  Male|             3|\n",
      "|         Android| 22|  Male|            11|\n",
      "+----------------+---+------+--------------+\n",
      "only showing top 20 rows\n",
      "\n"
     ]
    }
   ],
   "source": [
    "goal4 = data.groupBy(\n",
    "    col(\"Operating System\").alias(\"operating_system\"),\n",
    "    col(\"Age\").alias(\"age\"),\n",
    "    col(\"Gender\").alias(\"gender\")\n",
    ").count()\n",
    "\n",
    "goal4 = goal4.withColumnRenamed(\"count\", \"os_preferences\")\n",
    "\n",
    "goal4.show()"
   ]
  },
  {
   "cell_type": "code",
   "execution_count": 16,
   "id": "e7328cb6-38f9-4d0e-9660-ef85515f800a",
   "metadata": {},
   "outputs": [
    {
     "name": "stdout",
     "output_type": "stream",
     "text": [
      "+------------+---+--------------+------------------+\n",
      "|app_category|age|total_installs|avg_app_usage_time|\n",
      "+------------+---+--------------+------------------+\n",
      "|           3| 18|             1|             201.0|\n",
      "|           2| 18|             4|             125.5|\n",
      "|           1| 18|             1|              75.0|\n",
      "|           5| 18|             2|             489.0|\n",
      "|           4| 18|             3| 383.6666666666667|\n",
      "|           2| 19|             1|             155.0|\n",
      "|           1| 19|             3|              52.0|\n",
      "|           3| 19|             3|215.33333333333334|\n",
      "|           5| 19|             1|             488.0|\n",
      "|           4| 19|             4|             384.5|\n",
      "|           1| 20|             2|              33.0|\n",
      "|           3| 20|             5|             231.2|\n",
      "|           4| 20|             3| 354.3333333333333|\n",
      "|           2| 20|             3|             136.0|\n",
      "|           5| 20|             4|             528.5|\n",
      "|           4| 21|             5|             367.8|\n",
      "|           5| 21|             4|            541.25|\n",
      "|           2| 21|             1|             172.0|\n",
      "|           1| 21|             1|              42.0|\n",
      "|           3| 21|             6|238.66666666666666|\n",
      "+------------+---+--------------+------------------+\n",
      "only showing top 20 rows\n",
      "\n"
     ]
    }
   ],
   "source": [
    "goal5 = data.groupBy(\n",
    "    col(\"User Behavior Class\").alias(\"app_category\"),\n",
    "    col(\"Age\").alias(\"age\")\n",
    ").agg(\n",
    "    count(col(\"User ID\")).alias(\"total_installs\"),\n",
    "    avg(col(\"App Usage Time (min/day)\")).alias(\"avg_app_usage_time\")\n",
    ").orderBy(\"age\")\n",
    "\n",
    "goal5.show()"
   ]
  },
  {
   "cell_type": "code",
   "execution_count": 18,
   "id": "c4e04364-b14f-47ae-a455-f040716e7ebe",
   "metadata": {},
   "outputs": [
    {
     "name": "stdout",
     "output_type": "stream",
     "text": [
      "+---+------+------------------+------------------+----------------------+\n",
      "|age|gender|avg_screen_on_time|    avg_data_usage|avg_battery_efficiency|\n",
      "+---+------+------------------+------------------+----------------------+\n",
      "| 38|female| 6.183333333333334|            1201.0|     297.6666666666667|\n",
      "| 56|female| 4.433333333333333| 790.8333333333334|     322.6666666666667|\n",
      "| 48|  Male| 6.360000000000001|            1242.6|                 272.2|\n",
      "| 26|  Male| 5.283333333333334|1086.8333333333333|     282.8333333333333|\n",
      "| 53|  Male| 4.545454545454545| 750.3636363636364|                 304.0|\n",
      "| 47|  Male| 7.366666666666666|1311.7777777777778|    265.55555555555554|\n",
      "| 32|  Male| 4.355555555555556| 790.5555555555555|     288.8888888888889|\n",
      "| 18|  male|               3.7|             429.0|                 268.0|\n",
      "| 32|female| 4.366666666666666|             729.0|     338.6666666666667|\n",
      "| 36|female|              4.46|             731.8|                 278.8|\n",
      "| 25|  Male|              3.41|             609.9|                 376.7|\n",
      "| 24|  Male|               5.9|             979.7|                 288.7|\n",
      "| 39|female| 5.983333333333333|1155.8333333333333|     257.8333333333333|\n",
      "| 24|female|              3.85|             588.5|                295.75|\n",
      "| 37|  Male| 5.285714285714285|             944.0|    319.42857142857144|\n",
      "| 45|  Male| 4.500000000000001| 803.5555555555555|     286.3333333333333|\n",
      "| 33|  Male|              4.58|             734.2|                 371.6|\n",
      "| 49|  Male| 6.859999999999999|            1359.8|                 310.6|\n",
      "| 55|female|6.1499999999999995|            1135.2|                 292.0|\n",
      "| 40|  Male| 5.449999999999999|             987.9|                 319.3|\n",
      "+---+------+------------------+------------------+----------------------+\n",
      "only showing top 20 rows\n",
      "\n"
     ]
    }
   ],
   "source": [
    "goal6 = data.groupBy(\n",
    "    col(\"Age\").alias(\"age\"),\n",
    "    col(\"Gender\").alias(\"gender\")\n",
    ").agg(\n",
    "    avg(col(\"Screen On Time (hours/day)\")).alias(\"avg_screen_on_time\"),\n",
    "    avg(col(\"Data Usage (MB/day)\")).alias(\"avg_data_usage\"),\n",
    "    avg(col(\"Battery Efficiency(mAh/hr)\")).alias(\"avg_battery_efficiency\")\n",
    ")\n",
    "\n",
    "goal6.show()"
   ]
  },
  {
   "cell_type": "code",
   "execution_count": null,
   "id": "f7171bc1-ece4-45e2-9d8a-5936e8b63a40",
   "metadata": {},
   "outputs": [],
   "source": []
  }
 ],
 "metadata": {
  "kernelspec": {
   "display_name": "Python 3 (ipykernel)",
   "language": "python",
   "name": "python3"
  },
  "language_info": {
   "codemirror_mode": {
    "name": "ipython",
    "version": 3
   },
   "file_extension": ".py",
   "mimetype": "text/x-python",
   "name": "python",
   "nbconvert_exporter": "python",
   "pygments_lexer": "ipython3",
   "version": "3.12.7"
  }
 },
 "nbformat": 4,
 "nbformat_minor": 5
}
